{
 "cells": [
  {
   "cell_type": "code",
   "execution_count": 3,
   "id": "563bed47-a873-46c4-ad08-8f6ccef1c364",
   "metadata": {},
   "outputs": [
    {
     "name": "stderr",
     "output_type": "stream",
     "text": [
      "[2024-11-02T04:57:40Z WARN  re_sdk::log_sink] Dropping data in BufferedSink\n",
      "[2024-11-02T04:57:40Z INFO  re_sdk_comms::server] Hosting a SDK server over TCP at 0.0.0.0:9876. Connect with the Rerun logging SDK.\n",
      "[2024-11-02T04:57:40Z INFO  re_sdk_comms::server] New SDK client connected from: 127.0.0.1:65091\n"
     ]
    }
   ],
   "source": [
    "import rerun as rr\n",
    "import sys\n",
    "from pathlib import Path\n",
    "import RR_URDF_Loader as ru #Importing the py file to use URDFLogger\n",
    "\n",
    "path = Path().absolute().as_posix()\n",
    "\n",
    "# Get the absolute path that points to the URDF file\n",
    "urdf_filepath = path + \"/vis/double_pendulum.urdf\" #change filepath here\n",
    "\n",
    "#Gives the \"entity\" - URDF - a name in rerun visualizer\n",
    "entity_prefix = \"rerun_URDF_name\"\n",
    "\n",
    "#spawn=True creates an instance of the rerun visualizer, spawn=False won't visualize\n",
    "rr.init(\"rerun_instance_name\", spawn=True) \n",
    "\n",
    "urdf_logger = ru.URDFLogger(urdf_filepath, entity_prefix)\n",
    "\n",
    "urdf_logger.log()"
   ]
  },
  {
   "cell_type": "code",
   "execution_count": null,
   "id": "639ac5a6-3161-4407-bd2b-2817f202db3c",
   "metadata": {},
   "outputs": [],
   "source": []
  }
 ],
 "metadata": {
  "kernelspec": {
   "display_name": "Python 3 (ipykernel)",
   "language": "python",
   "name": "python3"
  },
  "language_info": {
   "codemirror_mode": {
    "name": "ipython",
    "version": 3
   },
   "file_extension": ".py",
   "mimetype": "text/x-python",
   "name": "python",
   "nbconvert_exporter": "python",
   "pygments_lexer": "ipython3",
   "version": "3.12.6"
  }
 },
 "nbformat": 4,
 "nbformat_minor": 5
}
