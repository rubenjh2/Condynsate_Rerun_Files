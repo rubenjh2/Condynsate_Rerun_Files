{
 "cells": [
  {
   "cell_type": "code",
   "execution_count": null,
   "id": "563bed47-a873-46c4-ad08-8f6ccef1c364",
   "metadata": {},
   "outputs": [],
   "source": [
    "import rerun as rr\n",
    "import sys\n",
    "from pathlib import Path\n",
    "import RR_URDF_Loader as ru #Importing the py file to use URDFLogger\n",
    "\n",
    "path = Path().absolute().as_posix()\n",
    "\n",
    "# Get the absolute path that points to the URDF file\n",
    "urdf_filepath = path + \"/vis/double_pendulum.urdf\" #change filepath here\n",
    "\n",
    "#Gives the \"entity\" - URDF - a name in rerun visualizer\n",
    "entity_prefix = \"rerun_URDF_name\"\n",
    "\n",
    "#spawn=True creates an instance of the rerun visualizer, spawn=False won't visualize\n",
    "rr.init(\"rerun_instance_name\", spawn=True) \n",
    "\n",
    "urdf_logger = ru.URDFLogger(urdf_filepath, entity_prefix)\n",
    "\n",
    "urdf_logger.log()"
   ]
  }
 ],
 "metadata": {
  "kernelspec": {
   "display_name": "Python 3 (ipykernel)",
   "language": "python",
   "name": "python3"
  },
  "language_info": {
   "codemirror_mode": {
    "name": "ipython",
    "version": 3
   },
   "file_extension": ".py",
   "mimetype": "text/x-python",
   "name": "python",
   "nbconvert_exporter": "python",
   "pygments_lexer": "ipython3",
   "version": "3.12.3"
  }
 },
 "nbformat": 4,
 "nbformat_minor": 5
}
